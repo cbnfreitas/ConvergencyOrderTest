{
 "cells": [
  {
   "cell_type": "code",
   "execution_count": 6,
   "metadata": {},
   "outputs": [],
   "source": [
    "import numpy as np"
   ]
  },
  {
   "cell_type": "markdown",
   "metadata": {},
   "source": [
    "This notebook computes the convergency order (p) according to [Richard L. Burden, J. Douglas Faires, Numerical Analysis, 2010]"
   ]
  },
  {
   "cell_type": "code",
   "execution_count": 144,
   "metadata": {},
   "outputs": [],
   "source": [
    "def convergency_order_test(integration_method):\n",
    "    \"\"\" Compare the numerical approximation of {x'=x, x(0)=1} at x(10) given by the integration_method\n",
    "        versus its analytical solution. \n",
    "        The integration step begins with h=0.1 and its successively divided by 2 per stage. \n",
    "        \n",
    "        For each stage, the integration step (h), the error relative to the analytical solution \n",
    "        and the approximation of convergency order are displayed.\n",
    "    \"\"\"\n",
    "\n",
    "    def f1(x, t):\n",
    "        return x\n",
    "\n",
    "    x0 = 1\n",
    "    tf = 10\n",
    "    sol_ref = np.exp(tf)\n",
    "\n",
    "    h = 0.1\n",
    "    for i in range(15):\n",
    "        t = np.arange(0, tf + h / 2, h)\n",
    "        x = integration_method(f1, x0, h=h, steps=len(t))\n",
    "        if i == 0:\n",
    "            auxErr1 = abs( x[-1] - sol_ref)\n",
    "            print(\"h=%9.2e\"% (h), \",  error=%9.2e\"% (auxErr1))\n",
    "        else:\n",
    "            auxErr2 = abs( x[-1] - sol_ref)\n",
    "            p = np.log(auxErr1 / auxErr2) / np.log(2.0)\n",
    "            print(\"h=%9.2e\"% (h), \",  error=%9.2e\"% (auxErr2), \", p=%9.2e\"% (p))\n",
    "            auxErr1 = auxErr2\n",
    "        h = h / 2"
   ]
  },
  {
   "cell_type": "code",
   "execution_count": 142,
   "metadata": {},
   "outputs": [],
   "source": [
    "def rk4(f, x0, h, steps, t0=0):\n",
    "    x = np.zeros(steps)\n",
    "    x[0] = x0\n",
    "    t = t0\n",
    "    \n",
    "    f1 = f2 = f3 = x0\n",
    "    for i in range( steps - 1 ):\n",
    "        k1 = h * f( x[i], t )\n",
    "        k2 = h * f( x[i] + 0.5 * k1, t + 0.5 * h )\n",
    "        k3 = h * f( x[i] + 0.5 * k2, t + 0.5 * h )\n",
    "        k4 = h * f( x[i] + k3, t + h )\n",
    "        x[i+1] = x[i] + ( k1 + 2.0 * ( k2 + k3 ) + k4 ) / 6.0\n",
    "        t += h\n",
    "        \n",
    "    return x"
   ]
  },
  {
   "cell_type": "code",
   "execution_count": 143,
   "metadata": {},
   "outputs": [
    {
     "name": "stdout",
     "output_type": "stream",
     "text": [
      "h= 1.00e-01 ,  error= 1.69e-01\n",
      "h= 5.00e-02 ,  error= 1.10e-02 , p= 3.94e+00\n",
      "h= 2.50e-02 ,  error= 7.02e-04 , p= 3.97e+00\n",
      "h= 1.25e-02 ,  error= 4.43e-05 , p= 3.98e+00\n",
      "h= 6.25e-03 ,  error= 2.79e-06 , p= 3.99e+00\n",
      "h= 3.13e-03 ,  error= 1.74e-07 , p= 4.00e+00\n",
      "h= 1.56e-03 ,  error= 1.09e-08 , p= 4.00e+00\n",
      "h= 7.81e-04 ,  error= 7.79e-10 , p= 3.81e+00\n",
      "h= 3.91e-04 ,  error= 1.09e-11 , p= 6.16e+00\n",
      "h= 1.95e-04 ,  error= 2.91e-11 , p=-1.42e+00\n",
      "h= 9.77e-05 ,  error= 1.93e-10 , p=-2.73e+00\n",
      "h= 4.88e-05 ,  error= 1.09e-11 , p= 4.14e+00\n",
      "h= 2.44e-05 ,  error= 7.06e-10 , p=-6.01e+00\n",
      "h= 1.22e-05 ,  error= 1.23e-09 , p=-7.97e-01\n",
      "h= 6.10e-06 ,  error= 2.44e-10 , p= 2.33e+00\n"
     ]
    }
   ],
   "source": [
    "convergency_order_test(rk4)"
   ]
  },
  {
   "cell_type": "markdown",
   "metadata": {},
   "source": [
    "Beyond h= 3.91e-04, even if we decrease the integration step, numerical noise becomes so intense that the numerical solution does not become closer to the analytical one"
   ]
  },
  {
   "cell_type": "code",
   "execution_count": 135,
   "metadata": {},
   "outputs": [],
   "source": [
    "def rk5(f, x0, h, steps, t0=0):\n",
    "    \"\"\" See S. Chapra e R. P. Canale. Numerical Methods for Engineers. McGraw-Hill, New York, 1998.\n",
    "    \"\"\"\n",
    "    \n",
    "    x = np.zeros(steps)\n",
    "    x[0] = x0\n",
    "    t = t0\n",
    "    \n",
    "    for i in range( steps - 1 ):\n",
    "        k1 = f( x[i], t )\n",
    "        k2 = f( x[i] + ( 1/4)* k1 * h, t + h / 4 )\n",
    "        k3 = f( x[i] +  (1/8)* k1 * h + (1/8) * k2 * h, t + h / 4 )\n",
    "        k4 = f( x[i] -  (1/2)* k2 * h +         k3 * h, t + h / 2 )\n",
    "        k5 = f( x[i] + (3/16)* k1 * h + (9/16)* k4 * h, t + 3*h / 4 )\n",
    "        k6 = f( x[i] -  (3/7)* k1 * h + (2/7) * k2 * h + (12/7)* k3 * h - (12/7)* k4 * h + (8/7)* k5 * h , t + h)\n",
    "        \n",
    "        x[i+1] = x[i] + (1/90) * ( 7*k1 + 32 * k3 + 12 * k4 + 32 * k5 + 7 *k6 ) * h\n",
    "        t += h\n",
    "        \n",
    "    return x\n"
   ]
  },
  {
   "cell_type": "code",
   "execution_count": 145,
   "metadata": {},
   "outputs": [
    {
     "name": "stdout",
     "output_type": "stream",
     "text": [
      "h= 1.00e-01 ,  error= 3.06e-04\n",
      "h= 5.00e-02 ,  error= 1.07e-05 , p= 4.84e+00\n",
      "h= 2.50e-02 ,  error= 3.54e-07 , p= 4.92e+00\n",
      "h= 1.25e-02 ,  error= 1.14e-08 , p= 4.96e+00\n",
      "h= 6.25e-03 ,  error= 3.42e-10 , p= 5.06e+00\n",
      "h= 3.13e-03 ,  error= 3.64e-11 , p= 3.23e+00\n",
      "h= 1.56e-03 ,  error= 1.06e-10 , p=-1.54e+00\n",
      "h= 7.81e-04 ,  error= 5.46e-11 , p= 9.51e-01\n",
      "h= 3.91e-04 ,  error= 2.18e-11 , p= 1.32e+00\n",
      "h= 1.95e-04 ,  error= 2.18e-11 , p= 0.00e+00\n",
      "h= 9.77e-05 ,  error= 2.11e-10 , p=-3.27e+00\n",
      "h= 4.88e-05 ,  error= 3.64e-12 , p= 5.86e+00\n",
      "h= 2.44e-05 ,  error= 6.95e-10 , p=-7.58e+00\n",
      "h= 1.22e-05 ,  error= 1.23e-09 , p=-8.19e-01\n",
      "h= 6.10e-06 ,  error= 2.44e-10 , p= 2.33e+00\n"
     ]
    }
   ],
   "source": [
    "convergency_order_test(rk5)"
   ]
  },
  {
   "cell_type": "markdown",
   "metadata": {},
   "source": [
    "Beyond h= 3.13e-03, even if we decrease the integration step, numerical noise becomes so intense that the numerical solution does not become closer to the analytical one"
   ]
  },
  {
   "cell_type": "code",
   "execution_count": null,
   "metadata": {},
   "outputs": [],
   "source": []
  }
 ],
 "metadata": {
  "kernelspec": {
   "display_name": "Python 3",
   "language": "python",
   "name": "python3"
  },
  "language_info": {
   "codemirror_mode": {
    "name": "ipython",
    "version": 3
   },
   "file_extension": ".py",
   "mimetype": "text/x-python",
   "name": "python",
   "nbconvert_exporter": "python",
   "pygments_lexer": "ipython3",
   "version": "3.5.4"
  }
 },
 "nbformat": 4,
 "nbformat_minor": 2
}
